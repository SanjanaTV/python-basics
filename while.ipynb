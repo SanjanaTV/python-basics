{
  "nbformat": 4,
  "nbformat_minor": 0,
  "metadata": {
    "colab": {
      "provenance": [],
      "authorship_tag": "ABX9TyPEUX/OIN6y28c34+moJOGX",
      "include_colab_link": true
    },
    "kernelspec": {
      "name": "python3",
      "display_name": "Python 3"
    },
    "language_info": {
      "name": "python"
    }
  },
  "cells": [
    {
      "cell_type": "markdown",
      "metadata": {
        "id": "view-in-github",
        "colab_type": "text"
      },
      "source": [
        "<a href=\"https://colab.research.google.com/github/SanjanaTV/python-basics/blob/main/while.ipynb\" target=\"_parent\"><img src=\"https://colab.research.google.com/assets/colab-badge.svg\" alt=\"Open In Colab\"/></a>"
      ]
    },
    {
      "cell_type": "code",
      "execution_count": null,
      "metadata": {
        "colab": {
          "base_uri": "https://localhost:8080/"
        },
        "id": "B2a6osSJrtTl",
        "outputId": "ad20b492-06e6-4790-a256-5795852a8723"
      },
      "outputs": [
        {
          "output_type": "stream",
          "name": "stdout",
          "text": [
            "55\n"
          ]
        }
      ],
      "source": [
        "#while loop\n",
        "sum=0\n",
        "i=0\n",
        "while(i<11):\n",
        "  sum=sum+i\n",
        "  i=i+1\n",
        "print(sum)"
      ]
    },
    {
      "cell_type": "code",
      "source": [
        "a=1\n",
        "while(a<10):\n",
        "  print(a)\n",
        "  a=a+1"
      ],
      "metadata": {
        "colab": {
          "base_uri": "https://localhost:8080/"
        },
        "id": "JezKuDlKr4OU",
        "outputId": "797953f6-5f6d-421d-f159-64c95e742d95"
      },
      "execution_count": null,
      "outputs": [
        {
          "output_type": "stream",
          "name": "stdout",
          "text": [
            "1\n",
            "2\n",
            "3\n",
            "4\n",
            "5\n",
            "6\n",
            "7\n",
            "8\n",
            "9\n"
          ]
        }
      ]
    },
    {
      "cell_type": "code",
      "source": [
        "import random\n",
        "s,u=0,0\n",
        "while True:\n",
        "\n",
        "  x=[\"stone\",\"paper\",\"scissors\"]\n",
        "  system=random.choice(x)\n",
        "  user=str(input(\"user's choice: \"))\n",
        "  print(\"System selected\",system)\n",
        "  if(user==\"stone\" and system==\"paper\"):\n",
        "    print(\"system wins\")\n",
        "    s=s+1\n",
        "  elif(user==\"paper\" and system==\"stone\"):\n",
        "    print(\"user wins\")\n",
        "    u=u+1\n",
        "  elif(user==\"paper\" and system==\"scissors\"):\n",
        "    print(\"system wins\")\n",
        "    s=s+1\n",
        "  elif(user==\"scissors\" and system==\"paper\"):\n",
        "    print(\"user wins\")\n",
        "    u=u+1\n",
        "  elif(user==\"scissors\" and system==\"stone\"):\n",
        "    print(\"system wins\")\n",
        "    s=s+1\n",
        "  elif(user==\"stone\" and system==\"scissors\"):\n",
        "    print(\"user wins\")\n",
        "    u=u+1\n",
        "  elif(user==\"stone\" and system==\"stone\"):\n",
        "    print(\"no one wins\")\n",
        "  elif(user==\"paper\" and system==\"paper\"):\n",
        "    print(\"no one wins\")\n",
        "  elif(user==\"scissors\" and system==\"scissors\"):\n",
        "    print(\"no one wins\")\n",
        "  if(u==3 or s==3):\n",
        "    break\n",
        "if(s==3):\n",
        "  print(\"System is the winner......\")\n",
        "else:\n",
        "  print(\"User is the winner.......\")\n"
      ],
      "metadata": {
        "colab": {
          "base_uri": "https://localhost:8080/"
        },
        "id": "qDSFcDQ6r7fE",
        "outputId": "7d71da6a-1511-49a2-eb6a-a909ed91b719"
      },
      "execution_count": null,
      "outputs": [
        {
          "output_type": "stream",
          "name": "stdout",
          "text": [
            "user's choice: stone\n",
            "System selected stone\n",
            "no one wins\n",
            "user's choice: stone\n",
            "System selected stone\n",
            "no one wins\n",
            "user's choice: scissors\n",
            "System selected scissors\n",
            "no one wins\n",
            "user's choice: paper\n",
            "System selected scissors\n",
            "system wins\n",
            "user's choice: paper\n",
            "System selected stone\n",
            "user wins\n",
            "user's choice: scissors\n",
            "System selected scissors\n",
            "no one wins\n",
            "user's choice: paper\n",
            "System selected scissors\n",
            "system wins\n",
            "user's choice: stone\n",
            "System selected scissors\n",
            "user wins\n",
            "user's choice: stone\n",
            "System selected paper\n",
            "system wins\n",
            "System is the winner......\n"
          ]
        }
      ]
    },
    {
      "cell_type": "code",
      "source": [
        "while(1):\n",
        "  x=int(input(\"enter the first number: \"))\n",
        "  y=int(input(\"enter the second number: \"))\n",
        "  op=str(input(\"enter the operator: \"))\n",
        "  if(op=='+'):\n",
        "    print(x+y)\n",
        "  if(op=='-'):\n",
        "    print(x-y)\n",
        "  if(op=='/'):\n",
        "    print(x/y)\n",
        "  if(op=='*'):\n",
        "    print(x*y)"
      ],
      "metadata": {
        "id": "oT1blpsEsFB6"
      },
      "execution_count": null,
      "outputs": []
    },
    {
      "cell_type": "code",
      "source": [],
      "metadata": {
        "id": "_Zw2YEfdWsrn"
      },
      "execution_count": null,
      "outputs": []
    }
  ]
}