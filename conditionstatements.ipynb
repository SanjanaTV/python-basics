{
  "nbformat": 4,
  "nbformat_minor": 0,
  "metadata": {
    "colab": {
      "provenance": [],
      "authorship_tag": "ABX9TyOg6Whn2j1j8DTHIzvkxhsm",
      "include_colab_link": true
    },
    "kernelspec": {
      "name": "python3",
      "display_name": "Python 3"
    },
    "language_info": {
      "name": "python"
    }
  },
  "cells": [
    {
      "cell_type": "markdown",
      "metadata": {
        "id": "view-in-github",
        "colab_type": "text"
      },
      "source": [
        "<a href=\"https://colab.research.google.com/github/SanjanaTV/python-basics/blob/main/conditionstatements.ipynb\" target=\"_parent\"><img src=\"https://colab.research.google.com/assets/colab-badge.svg\" alt=\"Open In Colab\"/></a>"
      ]
    },
    {
      "cell_type": "code",
      "execution_count": null,
      "metadata": {
        "id": "n9uBL7nfmFb2"
      },
      "outputs": [],
      "source": [
        "a=20"
      ]
    },
    {
      "cell_type": "code",
      "source": [
        "b=15"
      ],
      "metadata": {
        "id": "vjVY4_c5mNtl"
      },
      "execution_count": null,
      "outputs": []
    },
    {
      "cell_type": "markdown",
      "source": [
        "if statements"
      ],
      "metadata": {
        "id": "ATjh7WhNra8u"
      }
    },
    {
      "cell_type": "code",
      "source": [
        "if a > b:\n",
        "  print(\"a>b\")\n",
        "else:\n",
        "  print(\"a<b\")"
      ],
      "metadata": {
        "colab": {
          "base_uri": "https://localhost:8080/"
        },
        "id": "AGyXNCh8mRZp",
        "outputId": "e4a7a0bf-0b91-4606-c119-2d189287774f"
      },
      "execution_count": null,
      "outputs": [
        {
          "output_type": "stream",
          "name": "stdout",
          "text": [
            "a>b\n"
          ]
        }
      ]
    },
    {
      "cell_type": "code",
      "source": [
        "x=int(input(\"enter a number: \"))\n",
        "if((x%2)==0):\n",
        "  print(\"even\")\n",
        "else:\n",
        "  print(\"odd\")"
      ],
      "metadata": {
        "colab": {
          "base_uri": "https://localhost:8080/"
        },
        "id": "SpiATa1amVm6",
        "outputId": "5bbf05cc-c225-46d7-fe8d-60e954edfde1"
      },
      "execution_count": null,
      "outputs": [
        {
          "output_type": "stream",
          "name": "stdout",
          "text": [
            "enter a number: 4\n",
            "even\n"
          ]
        }
      ]
    },
    {
      "cell_type": "code",
      "source": [
        "x=int(input(\"enter a number: \"))\n",
        "if(x>0):\n",
        "  print(\"positive\")\n",
        "else:\n",
        "  print(\"negative\")"
      ],
      "metadata": {
        "colab": {
          "base_uri": "https://localhost:8080/"
        },
        "id": "qa2MZvXPoXTh",
        "outputId": "6e2467dd-d869-4cfb-f480-0aa263249084"
      },
      "execution_count": null,
      "outputs": [
        {
          "output_type": "stream",
          "name": "stdout",
          "text": [
            "enter a number: -6\n",
            "negative\n"
          ]
        }
      ]
    },
    {
      "cell_type": "markdown",
      "source": [
        "elif statements"
      ],
      "metadata": {
        "id": "fW0FdKmQriRu"
      }
    },
    {
      "cell_type": "code",
      "source": [
        "x=int(input(\"enter a number: \"))\n",
        "if(x>0):\n",
        "  print(\"positive\")\n",
        "elif(x<0):\n",
        "  print(\"negative\")\n",
        "else:\n",
        "  print(\"it is zero\")"
      ],
      "metadata": {
        "colab": {
          "base_uri": "https://localhost:8080/"
        },
        "id": "S5-SbzTZpxiC",
        "outputId": "4d5bfb73-3339-477f-aa6f-d50fe33dc4a4"
      },
      "execution_count": null,
      "outputs": [
        {
          "output_type": "stream",
          "name": "stdout",
          "text": [
            "enter a number: 0\n",
            "it is zero\n"
          ]
        }
      ]
    },
    {
      "cell_type": "code",
      "source": [
        "x=int(input(\"enter first number: \"))\n",
        "y=int(input(\"enter second number:  \"))\n",
        "z=str(input(\"enter the operator: \"))\n",
        "if(z=='+'):\n",
        "  print(x+y)\n",
        "elif(z=='-'):\n",
        "  print(x-y)\n",
        "elif(z=='*'):\n",
        "  print(x*y)\n",
        "elif(z=='/'):\n",
        "  print(x/y)"
      ],
      "metadata": {
        "colab": {
          "base_uri": "https://localhost:8080/"
        },
        "id": "bef60WtCqrpu",
        "outputId": "eb7b7f9d-5f0c-4071-b27b-2c1177806a3b"
      },
      "execution_count": null,
      "outputs": [
        {
          "output_type": "stream",
          "name": "stdout",
          "text": [
            "enter first number: 4\n",
            "enter second number:  3\n",
            "enter the operator: *\n",
            "12\n"
          ]
        }
      ]
    },
    {
      "cell_type": "code",
      "source": [
        "import random\n",
        "x=[\"stone\",\"paper\",\"scissors\"]\n",
        "system=random.choice(x)\n",
        "user=str(input(\"user's choice: \"))\n",
        "print(\"System selected\",system)\n",
        "if(user==\"stone\" and system==\"paper\"):\n",
        "  print(\"system wins\")\n",
        "elif(user==\"paper\" and system==\"stone\"):\n",
        "  print(\"user wins\")\n",
        "elif(user==\"paper\" and system==\"scissors\"):\n",
        "  print(\"system wins\")\n",
        "elif(user==\"scissors\" and system==\"paper\"):\n",
        "  print(\"user wins\")\n",
        "elif(user==\"scissors\" and system==\"stone\"):\n",
        "  print(\"system wins\")\n",
        "elif(user==\"stone\" and system==\"scissors\"):\n",
        "  print(\"user wins\")\n",
        "elif(user==\"stone\" and system==\"stone\"):\n",
        "  print(\"no one wins\")\n",
        "elif(user==\"paper\" and system==\"paper\"):\n",
        "  print(\"no one wins\")\n",
        "elif(user==\"scissors\" and system==\"scissors\"):\n",
        "  print(\"no one wins\")"
      ],
      "metadata": {
        "colab": {
          "base_uri": "https://localhost:8080/",
          "height": 380
        },
        "id": "yn5kzfKLsuTF",
        "outputId": "c7beba5b-a1b7-4d7b-f388-97d82de44bd7"
      },
      "execution_count": null,
      "outputs": [
        {
          "output_type": "error",
          "ename": "KeyboardInterrupt",
          "evalue": "ignored",
          "traceback": [
            "\u001b[0;31m---------------------------------------------------------------------------\u001b[0m",
            "\u001b[0;31mKeyboardInterrupt\u001b[0m                         Traceback (most recent call last)",
            "\u001b[0;32m<ipython-input-1-eefb763abdeb>\u001b[0m in \u001b[0;36m<cell line: 4>\u001b[0;34m()\u001b[0m\n\u001b[1;32m      2\u001b[0m \u001b[0mx\u001b[0m\u001b[0;34m=\u001b[0m\u001b[0;34m[\u001b[0m\u001b[0;34m\"stone\"\u001b[0m\u001b[0;34m,\u001b[0m\u001b[0;34m\"paper\"\u001b[0m\u001b[0;34m,\u001b[0m\u001b[0;34m\"scissors\"\u001b[0m\u001b[0;34m]\u001b[0m\u001b[0;34m\u001b[0m\u001b[0;34m\u001b[0m\u001b[0m\n\u001b[1;32m      3\u001b[0m \u001b[0msystem\u001b[0m\u001b[0;34m=\u001b[0m\u001b[0mrandom\u001b[0m\u001b[0;34m.\u001b[0m\u001b[0mchoice\u001b[0m\u001b[0;34m(\u001b[0m\u001b[0mx\u001b[0m\u001b[0;34m)\u001b[0m\u001b[0;34m\u001b[0m\u001b[0;34m\u001b[0m\u001b[0m\n\u001b[0;32m----> 4\u001b[0;31m \u001b[0muser\u001b[0m\u001b[0;34m=\u001b[0m\u001b[0mstr\u001b[0m\u001b[0;34m(\u001b[0m\u001b[0minput\u001b[0m\u001b[0;34m(\u001b[0m\u001b[0;34m\"user's choice: \"\u001b[0m\u001b[0;34m)\u001b[0m\u001b[0;34m)\u001b[0m\u001b[0;34m\u001b[0m\u001b[0;34m\u001b[0m\u001b[0m\n\u001b[0m\u001b[1;32m      5\u001b[0m \u001b[0mprint\u001b[0m\u001b[0;34m(\u001b[0m\u001b[0;34m\"System selected\"\u001b[0m\u001b[0;34m,\u001b[0m\u001b[0msystem\u001b[0m\u001b[0;34m)\u001b[0m\u001b[0;34m\u001b[0m\u001b[0;34m\u001b[0m\u001b[0m\n\u001b[1;32m      6\u001b[0m \u001b[0;32mif\u001b[0m\u001b[0;34m(\u001b[0m\u001b[0muser\u001b[0m\u001b[0;34m==\u001b[0m\u001b[0;34m\"stone\"\u001b[0m \u001b[0;32mand\u001b[0m \u001b[0msystem\u001b[0m\u001b[0;34m==\u001b[0m\u001b[0;34m\"paper\"\u001b[0m\u001b[0;34m)\u001b[0m\u001b[0;34m:\u001b[0m\u001b[0;34m\u001b[0m\u001b[0;34m\u001b[0m\u001b[0m\n",
            "\u001b[0;32m/usr/local/lib/python3.10/dist-packages/ipykernel/kernelbase.py\u001b[0m in \u001b[0;36mraw_input\u001b[0;34m(self, prompt)\u001b[0m\n\u001b[1;32m    849\u001b[0m                 \u001b[0;34m\"raw_input was called, but this frontend does not support input requests.\"\u001b[0m\u001b[0;34m\u001b[0m\u001b[0;34m\u001b[0m\u001b[0m\n\u001b[1;32m    850\u001b[0m             )\n\u001b[0;32m--> 851\u001b[0;31m         return self._input_request(str(prompt),\n\u001b[0m\u001b[1;32m    852\u001b[0m             \u001b[0mself\u001b[0m\u001b[0;34m.\u001b[0m\u001b[0m_parent_ident\u001b[0m\u001b[0;34m,\u001b[0m\u001b[0;34m\u001b[0m\u001b[0;34m\u001b[0m\u001b[0m\n\u001b[1;32m    853\u001b[0m             \u001b[0mself\u001b[0m\u001b[0;34m.\u001b[0m\u001b[0m_parent_header\u001b[0m\u001b[0;34m,\u001b[0m\u001b[0;34m\u001b[0m\u001b[0;34m\u001b[0m\u001b[0m\n",
            "\u001b[0;32m/usr/local/lib/python3.10/dist-packages/ipykernel/kernelbase.py\u001b[0m in \u001b[0;36m_input_request\u001b[0;34m(self, prompt, ident, parent, password)\u001b[0m\n\u001b[1;32m    893\u001b[0m             \u001b[0;32mexcept\u001b[0m \u001b[0mKeyboardInterrupt\u001b[0m\u001b[0;34m:\u001b[0m\u001b[0;34m\u001b[0m\u001b[0;34m\u001b[0m\u001b[0m\n\u001b[1;32m    894\u001b[0m                 \u001b[0;31m# re-raise KeyboardInterrupt, to truncate traceback\u001b[0m\u001b[0;34m\u001b[0m\u001b[0;34m\u001b[0m\u001b[0m\n\u001b[0;32m--> 895\u001b[0;31m                 \u001b[0;32mraise\u001b[0m \u001b[0mKeyboardInterrupt\u001b[0m\u001b[0;34m(\u001b[0m\u001b[0;34m\"Interrupted by user\"\u001b[0m\u001b[0;34m)\u001b[0m \u001b[0;32mfrom\u001b[0m \u001b[0;32mNone\u001b[0m\u001b[0;34m\u001b[0m\u001b[0;34m\u001b[0m\u001b[0m\n\u001b[0m\u001b[1;32m    896\u001b[0m             \u001b[0;32mexcept\u001b[0m \u001b[0mException\u001b[0m \u001b[0;32mas\u001b[0m \u001b[0me\u001b[0m\u001b[0;34m:\u001b[0m\u001b[0;34m\u001b[0m\u001b[0;34m\u001b[0m\u001b[0m\n\u001b[1;32m    897\u001b[0m                 \u001b[0mself\u001b[0m\u001b[0;34m.\u001b[0m\u001b[0mlog\u001b[0m\u001b[0;34m.\u001b[0m\u001b[0mwarning\u001b[0m\u001b[0;34m(\u001b[0m\u001b[0;34m\"Invalid Message:\"\u001b[0m\u001b[0;34m,\u001b[0m \u001b[0mexc_info\u001b[0m\u001b[0;34m=\u001b[0m\u001b[0;32mTrue\u001b[0m\u001b[0;34m)\u001b[0m\u001b[0;34m\u001b[0m\u001b[0;34m\u001b[0m\u001b[0m\n",
            "\u001b[0;31mKeyboardInterrupt\u001b[0m: Interrupted by user"
          ]
        }
      ]
    },
    {
      "cell_type": "code",
      "source": [
        "choice=int(input(\"enter your choice 1.circle 2.rectangle 3.square: \"))\n",
        "c=int(input(\"choose- 1.perimeter 2.area: \"))\n",
        "if(choice==1 and c==1):\n",
        "  x=int(input(\"enter the radius: \"))\n",
        "  print(\"perimeter of circle= \",2*3.14*x)\n",
        "elif(choice==1 and c==2):\n",
        "  x=int(input(\"enter the radius: \"))\n",
        "  print(\"area of circle= \",3.14*x*x)\n",
        "elif(choice==2 and c==1):\n",
        "  l=int(input(\"enter the length: \"))\n",
        "  b=int(input(\"enter the breadth: \"))\n",
        "  print(\"perimeter of the rectangle= \",2*l*b)\n",
        "elif(choice==2 and c==2):\n",
        "  l=int(input(\"enter the length: \"))\n",
        "  b=int(input(\"enter the breadth: \"))\n",
        "  print(\"area of rectangle= \",l*b)\n",
        "elif(choice==3 and c==1):\n",
        "  l=int(input(\"enter the side: \"))\n",
        "  print(\"perimeter of square= \",4*l)\n",
        "elif(choice==3 and c==2):\n",
        "  l=int(input(\"enter the side: \"))\n",
        "  print(\"area of square= \",l*l)"
      ],
      "metadata": {
        "colab": {
          "base_uri": "https://localhost:8080/"
        },
        "id": "H6kjEvhixUMb",
        "outputId": "ce1078fc-3505-4d61-d7e6-7c82bd49bf49"
      },
      "execution_count": null,
      "outputs": [
        {
          "output_type": "stream",
          "name": "stdout",
          "text": [
            "enter your choice 1.circle 2.rectangle 3.square: 2\n",
            "choose- 1.perimeter 2.area: 2\n",
            "enter the length: 5\n",
            "enter the breadth: 4\n",
            "area of rectangle=  20\n"
          ]
        }
      ]
    },
    {
      "cell_type": "code",
      "source": [
        "for i in range(0,10):\n",
        "  print(i)"
      ],
      "metadata": {
        "colab": {
          "base_uri": "https://localhost:8080/"
        },
        "id": "eQbXCIh_2tyr",
        "outputId": "6d42dbf5-49a2-4ea6-e09e-1b03783d6911"
      },
      "execution_count": null,
      "outputs": [
        {
          "output_type": "stream",
          "name": "stdout",
          "text": [
            "0\n",
            "1\n",
            "2\n",
            "3\n",
            "4\n",
            "5\n",
            "6\n",
            "7\n",
            "8\n",
            "9\n"
          ]
        }
      ]
    },
    {
      "cell_type": "code",
      "source": [
        "x=[\"mango\",\"orange\",\"apple\",\"grapes\"]\n",
        "for i in x:\n",
        "  print(i)"
      ],
      "metadata": {
        "colab": {
          "base_uri": "https://localhost:8080/"
        },
        "id": "isWSZiHk44sj",
        "outputId": "b6a28588-36f1-4c89-9804-507d67bddfa6"
      },
      "execution_count": null,
      "outputs": [
        {
          "output_type": "stream",
          "name": "stdout",
          "text": [
            "mango\n",
            "orange\n",
            "apple\n",
            "grapes\n"
          ]
        }
      ]
    },
    {
      "cell_type": "code",
      "source": [
        "sum=0\n",
        "for i in range(0,10):\n",
        "  sum=sum+i\n",
        "print(sum)"
      ],
      "metadata": {
        "colab": {
          "base_uri": "https://localhost:8080/"
        },
        "id": "bB7ISbV35IfH",
        "outputId": "1bf5491e-d575-41ba-8bc6-cde466b893d2"
      },
      "execution_count": null,
      "outputs": [
        {
          "output_type": "stream",
          "name": "stdout",
          "text": [
            "45\n"
          ]
        }
      ]
    },
    {
      "cell_type": "code",
      "source": [
        "num=int(input(\"enter the number: \"))\n",
        "fact=1\n",
        "for i in range(1,num+1):\n",
        "  fact=fact*i\n",
        "print(fact)"
      ],
      "metadata": {
        "colab": {
          "base_uri": "https://localhost:8080/"
        },
        "id": "J_dbw14b6AX4",
        "outputId": "336ad1c0-4dc7-4033-f482-2745435fba6a"
      },
      "execution_count": null,
      "outputs": [
        {
          "output_type": "stream",
          "name": "stdout",
          "text": [
            "enter the number: 4\n",
            "24\n"
          ]
        }
      ]
    },
    {
      "cell_type": "code",
      "source": [
        "x=1\n",
        "y=0\n",
        "print(1)\n",
        "for i in range(0,10):\n",
        "  sum=x+y\n",
        "  print(sum)\n",
        "  y=x\n",
        "  x=sum\n"
      ],
      "metadata": {
        "colab": {
          "base_uri": "https://localhost:8080/"
        },
        "id": "ASCooYwZ9CAN",
        "outputId": "19473e4b-a6af-46d8-8c83-b8b1f6282506"
      },
      "execution_count": null,
      "outputs": [
        {
          "output_type": "stream",
          "name": "stdout",
          "text": [
            "1\n",
            "1\n",
            "2\n",
            "3\n",
            "5\n",
            "8\n",
            "13\n",
            "21\n",
            "34\n",
            "55\n",
            "89\n"
          ]
        }
      ]
    },
    {
      "cell_type": "code",
      "source": [
        "num=int(input(\"enter the number: \"))\n",
        "lim=int(input(\"enter the limit: \"))\n",
        "for i in range(1,lim+1):\n",
        "  mul=i*num\n",
        "  print(mul)\n"
      ],
      "metadata": {
        "colab": {
          "base_uri": "https://localhost:8080/"
        },
        "id": "c9pXfa8A-1pE",
        "outputId": "dd68dd8b-3c35-4ee5-edce-b82492a0d294"
      },
      "execution_count": null,
      "outputs": [
        {
          "output_type": "stream",
          "name": "stdout",
          "text": [
            "enter the number: 2\n",
            "enter the limit: 10\n",
            "2\n",
            "4\n",
            "6\n",
            "8\n",
            "10\n",
            "12\n",
            "14\n",
            "16\n",
            "18\n",
            "20\n"
          ]
        }
      ]
    },
    {
      "cell_type": "code",
      "source": [],
      "metadata": {
        "id": "LEAk0419An3g"
      },
      "execution_count": null,
      "outputs": []
    }
  ]
}