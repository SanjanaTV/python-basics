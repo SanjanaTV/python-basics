{
  "nbformat": 4,
  "nbformat_minor": 0,
  "metadata": {
    "colab": {
      "provenance": [],
      "authorship_tag": "ABX9TyORDNjJcU2VaK5bdN1Qm+X2",
      "include_colab_link": true
    },
    "kernelspec": {
      "name": "python3",
      "display_name": "Python 3"
    },
    "language_info": {
      "name": "python"
    }
  },
  "cells": [
    {
      "cell_type": "markdown",
      "metadata": {
        "id": "view-in-github",
        "colab_type": "text"
      },
      "source": [
        "<a href=\"https://colab.research.google.com/github/SanjanaTV/python-basics/blob/main/functions.ipynb\" target=\"_parent\"><img src=\"https://colab.research.google.com/assets/colab-badge.svg\" alt=\"Open In Colab\"/></a>"
      ]
    },
    {
      "cell_type": "code",
      "execution_count": null,
      "metadata": {
        "colab": {
          "base_uri": "https://localhost:8080/"
        },
        "id": "AAjzDK0Ad1ec",
        "outputId": "afbac1f6-f111-4b44-bce8-4f05259d5a22"
      },
      "outputs": [
        {
          "output_type": "stream",
          "name": "stdout",
          "text": [
            "10\n"
          ]
        }
      ],
      "source": [
        "def sum():\n",
        "  a=3\n",
        "  b=7\n",
        "  print(a+b)\n",
        "sum()"
      ]
    },
    {
      "cell_type": "code",
      "source": [
        "def sum():\n",
        "  a=int(input(\"enter the first number: \"))\n",
        "  b=int(input(\"enter the second number: \"))\n",
        "  print(a+b)\n",
        "sum()"
      ],
      "metadata": {
        "colab": {
          "base_uri": "https://localhost:8080/"
        },
        "id": "FinRnQBwd9Ar",
        "outputId": "9a49a2f9-d48c-41ec-86cd-e55a3bb268a6"
      },
      "execution_count": null,
      "outputs": [
        {
          "output_type": "stream",
          "name": "stdout",
          "text": [
            "enter the first number: 4\n",
            "enter the second number: 7\n",
            "11\n"
          ]
        }
      ]
    },
    {
      "cell_type": "code",
      "source": [
        "def bmi():\n",
        "  h=float(input(\"enter the height: \"))\n",
        "  w=float(input(\"enter the weight: \"))\n",
        "  bmi=w/(h*h)\n",
        "  print(\"bmi\" ,bmi)\n",
        "bmi()\n"
      ],
      "metadata": {
        "colab": {
          "base_uri": "https://localhost:8080/"
        },
        "id": "ozrrEbkzeBnj",
        "outputId": "ecb52277-0b2d-41ea-da22-5ab18cb1b17b"
      },
      "execution_count": null,
      "outputs": [
        {
          "output_type": "stream",
          "name": "stdout",
          "text": [
            "enter the height: 1.5\n",
            "enter the weight: 50\n",
            "bmi 22.22222222222222\n"
          ]
        }
      ]
    },
    {
      "cell_type": "code",
      "source": [
        "def sum(a,b):\n",
        "  print(a+b)\n",
        "sum(10,20)"
      ],
      "metadata": {
        "colab": {
          "base_uri": "https://localhost:8080/"
        },
        "id": "HAyCDnXmeIHH",
        "outputId": "b6004e94-8790-4fe9-e38a-2308b37525f7"
      },
      "execution_count": null,
      "outputs": [
        {
          "output_type": "stream",
          "name": "stdout",
          "text": [
            "30\n"
          ]
        }
      ]
    },
    {
      "cell_type": "code",
      "source": [
        "def bmi(h,w):\n",
        "  bmi=w/(h*h)\n",
        "  print(bmi)\n",
        "bmi(1.6,50)"
      ],
      "metadata": {
        "colab": {
          "base_uri": "https://localhost:8080/"
        },
        "id": "eRljv70IeN9r",
        "outputId": "7e174df4-d3ef-4c9c-acad-bfd64ce7c218"
      },
      "execution_count": null,
      "outputs": [
        {
          "output_type": "stream",
          "name": "stdout",
          "text": [
            "19.531249999999996\n"
          ]
        }
      ]
    },
    {
      "cell_type": "code",
      "source": [
        "def sum():\n",
        "  a=10\n",
        "  b=20\n",
        "  c=a+b\n",
        "  print(c)\n",
        "  return(c)\n",
        "d=sum()\n"
      ],
      "metadata": {
        "colab": {
          "base_uri": "https://localhost:8080/"
        },
        "id": "AG1gYIsXeRog",
        "outputId": "4678bace-27ee-4cf3-84bd-bda24272b1d8"
      },
      "execution_count": null,
      "outputs": [
        {
          "output_type": "stream",
          "name": "stdout",
          "text": [
            "30\n"
          ]
        }
      ]
    },
    {
      "cell_type": "code",
      "source": [
        "def sum(a,b):\n",
        "  c=a+b\n",
        "  print(c)\n",
        "  return(c)\n",
        "d=sum(10,20)"
      ],
      "metadata": {
        "colab": {
          "base_uri": "https://localhost:8080/"
        },
        "id": "RzjZhv4aeU7k",
        "outputId": "51a6ff41-4da9-4399-e7d6-ead44a97a28e"
      },
      "execution_count": null,
      "outputs": [
        {
          "output_type": "stream",
          "name": "stdout",
          "text": [
            "30\n"
          ]
        }
      ]
    },
    {
      "cell_type": "code",
      "source": [
        "def bmi(h,w):\n",
        "  bmi=w/(h*h)\n",
        "  print(bmi)\n",
        "  return(bmi)\n",
        "b=bmi(1.7,50)\n",
        "if(b>18):\n",
        "  print(\"overweight\")\n",
        "if(b<15):\n",
        "  print(\"underweight\")\n",
        "if(15<b<18):\n",
        "  print(\"normal weight\")"
      ],
      "metadata": {
        "colab": {
          "base_uri": "https://localhost:8080/"
        },
        "id": "wsl0xfQWeaa9",
        "outputId": "5c5c9c06-d53d-49d2-fc3f-29c8245e4b2b"
      },
      "execution_count": null,
      "outputs": [
        {
          "output_type": "stream",
          "name": "stdout",
          "text": [
            "17.301038062283737\n",
            "normal weight\n"
          ]
        }
      ]
    },
    {
      "cell_type": "code",
      "source": [
        "def fact(a):\n",
        "  fact=1\n",
        "  for i in range(1,a+1):\n",
        "    fact=fact*i\n",
        "  print(fact)\n",
        "fact(6)"
      ],
      "metadata": {
        "colab": {
          "base_uri": "https://localhost:8080/"
        },
        "id": "7b14O7Zyedts",
        "outputId": "f48c859a-e4ca-4490-9cfe-b3af5c62ff75"
      },
      "execution_count": null,
      "outputs": [
        {
          "output_type": "stream",
          "name": "stdout",
          "text": [
            "720\n"
          ]
        }
      ]
    },
    {
      "cell_type": "code",
      "source": [
        "def sum(a,b):\n",
        "  c=a+b\n",
        "  print(c)\n",
        "def sub(a,b):\n",
        "  c=a-b\n",
        "  print(c)\n",
        "def mul(a,b):\n",
        "  c=a*b\n",
        "  print(c)\n",
        "def div(a,b):\n",
        "  c=a/b\n",
        "  print(c)\n",
        "sum(2,5)\n",
        "sub(4,5)\n",
        "mul(3,4)\n",
        "div(10,5)"
      ],
      "metadata": {
        "colab": {
          "base_uri": "https://localhost:8080/"
        },
        "id": "-JqF3rqNeiGv",
        "outputId": "30a5c3af-1b64-456a-8136-ff29cf17d20b"
      },
      "execution_count": null,
      "outputs": [
        {
          "output_type": "stream",
          "name": "stdout",
          "text": [
            "7\n",
            "-1\n",
            "12\n",
            "2.0\n"
          ]
        }
      ]
    },
    {
      "cell_type": "code",
      "source": [],
      "metadata": {
        "id": "KB4T_g_uhdOq"
      },
      "execution_count": null,
      "outputs": []
    }
  ]
}