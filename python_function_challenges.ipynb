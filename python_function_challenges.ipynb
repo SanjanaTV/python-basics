{
  "cells": [
    {
      "cell_type": "markdown",
      "metadata": {
        "id": "view-in-github",
        "colab_type": "text"
      },
      "source": [
        "<a href=\"https://colab.research.google.com/github/SanjanaTV/python-basics/blob/main/python_function_challenges.ipynb\" target=\"_parent\"><img src=\"https://colab.research.google.com/assets/colab-badge.svg\" alt=\"Open In Colab\"/></a>"
      ]
    },
    {
      "cell_type": "code",
      "execution_count": null,
      "metadata": {
        "colab": {
          "base_uri": "https://localhost:8080/"
        },
        "id": "hlCsyYrY06fS",
        "outputId": "eb78ff76-d26e-4de7-fb02-674374c21f56"
      },
      "outputs": [
        {
          "name": "stdout",
          "output_type": "stream",
          "text": [
            "gshp\n"
          ]
        }
      ],
      "source": [
        "#function that accepts two strings\n",
        "def st(s1,s2):\n",
        "  if(len(s1)>len(s2)):\n",
        "    print(s1)\n",
        "  elif(len(s1)<len(s2)):\n",
        "    print(s2)\n",
        "  else:\n",
        "    print(s1)\n",
        "    print(s2)\n",
        "st(\"abc\",\"gshp\")"
      ]
    },
    {
      "cell_type": "code",
      "execution_count": null,
      "metadata": {
        "colab": {
          "base_uri": "https://localhost:8080/"
        },
        "id": "XyTRGmn909sV",
        "outputId": "b107f98a-1b3e-476b-dca9-ed15cc01d622"
      },
      "outputs": [
        {
          "name": "stdout",
          "output_type": "stream",
          "text": [
            "it is an even number\n"
          ]
        }
      ],
      "source": [
        "#function to print even or odd\n",
        "def check(x):\n",
        "  if(x%2==0):\n",
        "    print(\"it is an even number\")\n",
        "  else:\n",
        "    print(\"it is an odd number\")\n",
        "check(4)"
      ]
    },
    {
      "cell_type": "code",
      "execution_count": null,
      "metadata": {
        "colab": {
          "base_uri": "https://localhost:8080/"
        },
        "id": "feOHOGoL1Bko",
        "outputId": "cd5a3fa3-570a-471f-fe26-914b74af7cd6"
      },
      "outputs": [
        {
          "data": {
            "text/plain": [
              "{1: 1, 2: 4, 3: 9}"
            ]
          },
          "execution_count": 3,
          "metadata": {},
          "output_type": "execute_result"
        }
      ],
      "source": [
        "#function having dictionary with values square of the key\n",
        "def dict(n):\n",
        "  d={}\n",
        "  for i in range(1,n+1):\n",
        "    d[i]=i**2\n",
        "  return d\n",
        "dict(3)"
      ]
    },
    {
      "cell_type": "code",
      "execution_count": null,
      "metadata": {
        "colab": {
          "base_uri": "https://localhost:8080/"
        },
        "id": "7_qSINWc1Ffx",
        "outputId": "e39f1036-2cd6-4241-f3d6-d001c40748ce"
      },
      "outputs": [
        {
          "data": {
            "text/plain": [
              "{1: 1,\n",
              " 2: 4,\n",
              " 3: 9,\n",
              " 4: 16,\n",
              " 5: 25,\n",
              " 6: 36,\n",
              " 7: 49,\n",
              " 8: 64,\n",
              " 9: 81,\n",
              " 10: 100,\n",
              " 11: 121,\n",
              " 12: 144,\n",
              " 13: 169,\n",
              " 14: 196,\n",
              " 15: 225,\n",
              " 16: 256,\n",
              " 17: 289,\n",
              " 18: 324,\n",
              " 19: 361,\n",
              " 20: 400}"
            ]
          },
          "execution_count": 4,
          "metadata": {},
          "output_type": "execute_result"
        }
      ],
      "source": [
        "def dict(n):\n",
        "  d={}\n",
        "  for i in range(1,n+1):\n",
        "    d[i]=i**2\n",
        "  return d\n",
        "dict(20)"
      ]
    },
    {
      "cell_type": "code",
      "execution_count": null,
      "metadata": {
        "colab": {
          "base_uri": "https://localhost:8080/"
        },
        "id": "XH_gYHhb1LkH",
        "outputId": "aea8cb9f-29a4-47f7-b4ae-8514c87e5cd2"
      },
      "outputs": [
        {
          "name": "stdout",
          "output_type": "stream",
          "text": [
            "1\n",
            "4\n",
            "9\n",
            "16\n",
            "25\n",
            "36\n",
            "49\n",
            "64\n",
            "81\n",
            "100\n",
            "121\n",
            "144\n",
            "169\n",
            "196\n",
            "225\n",
            "256\n",
            "289\n",
            "324\n",
            "361\n",
            "400\n"
          ]
        }
      ],
      "source": [
        "#function having the dictionary with value square of the key(the function should only print the values)\n",
        "def dict(n):\n",
        "  d={}\n",
        "  for i in range(1,n+1):\n",
        "    d[i]=i**2\n",
        "    print(d[i])\n",
        "dict(20)"
      ]
    },
    {
      "cell_type": "code",
      "execution_count": null,
      "metadata": {
        "colab": {
          "base_uri": "https://localhost:8080/"
        },
        "id": "Ue42CLtQ1NYp",
        "outputId": "a45013c8-5451-4cae-d960-d59c9fd12939"
      },
      "outputs": [
        {
          "name": "stdout",
          "output_type": "stream",
          "text": [
            "1\n",
            "2\n",
            "3\n",
            "4\n",
            "5\n",
            "6\n",
            "7\n",
            "8\n",
            "9\n",
            "10\n",
            "11\n",
            "12\n",
            "13\n",
            "14\n",
            "15\n",
            "16\n",
            "17\n",
            "18\n",
            "19\n",
            "20\n"
          ]
        }
      ],
      "source": [
        "#the function should only print the keys only)\n",
        "def dict(n):\n",
        "  d={}\n",
        "  for i in range(1,n+1):\n",
        "    d[i]=i**2\n",
        "    print(i)\n",
        "dict(20)\n"
      ]
    },
    {
      "cell_type": "code",
      "execution_count": null,
      "metadata": {
        "colab": {
          "base_uri": "https://localhost:8080/"
        },
        "id": "BKOUyizj1RST",
        "outputId": "5449fb57-fb89-4f7d-fc65-977e14ae815d"
      },
      "outputs": [
        {
          "name": "stdout",
          "output_type": "stream",
          "text": [
            "[1, 4, 9, 16, 25, 36, 49, 64, 81, 100, 121, 144, 169, 196, 225, 256, 289, 324, 361, 400]\n"
          ]
        }
      ],
      "source": [
        "#generate list with values as square of 1 to 20\n",
        "def list1(n):\n",
        "  li=list()\n",
        "  for i in range(1,n+1):\n",
        "    li.append(i**2)\n",
        "  print(li)\n",
        "list1(20)"
      ]
    },
    {
      "cell_type": "code",
      "execution_count": null,
      "metadata": {
        "colab": {
          "base_uri": "https://localhost:8080/"
        },
        "id": "VHRkRn2g1UYC",
        "outputId": "2d7a881e-68a5-46fb-fc2c-d08bdbeed350"
      },
      "outputs": [
        {
          "name": "stdout",
          "output_type": "stream",
          "text": [
            "[4, 9, 16, 25, 36]\n"
          ]
        }
      ],
      "source": [
        "#and print the first 5 elements\n",
        "def list1(n):\n",
        "  li=list()\n",
        "  for i in range(1,n+1):\n",
        "    li.append(i**2)\n",
        "  print(li[1:6])\n",
        "list1(20)"
      ]
    },
    {
      "cell_type": "code",
      "execution_count": null,
      "metadata": {
        "colab": {
          "base_uri": "https://localhost:8080/"
        },
        "id": "PsBYm7Bm1r3i",
        "outputId": "cdeca2b6-0bf6-4be0-efc4-3d26009f0f06"
      },
      "outputs": [
        {
          "name": "stdout",
          "output_type": "stream",
          "text": [
            "[256, 289, 324, 361, 400]\n"
          ]
        }
      ],
      "source": [
        "#and print the last 5 elements\n",
        "def list1(n):\n",
        "  li=list()\n",
        "  for i in range(1,n+1):\n",
        "    li.append(i**2)\n",
        "  print(li[-5:])\n",
        "list1(20)"
      ]
    },
    {
      "cell_type": "code",
      "execution_count": null,
      "metadata": {
        "colab": {
          "base_uri": "https://localhost:8080/"
        },
        "id": "-8-saa_v2UEq",
        "outputId": "2776060f-7cb5-4bd3-fa6e-96e71eddffba"
      },
      "outputs": [
        {
          "name": "stdout",
          "output_type": "stream",
          "text": [
            "[36, 49, 64, 81, 100, 121, 144, 169, 196, 225, 256, 289, 324, 361, 400]\n"
          ]
        }
      ],
      "source": [
        "#except first 5 elements\n",
        "def list1(n):\n",
        "  li=list()\n",
        "  for i in range(1,n+1):\n",
        "    li.append(i**2)\n",
        "  print(li[5:])\n",
        "list1(20)"
      ]
    },
    {
      "cell_type": "code",
      "execution_count": null,
      "metadata": {
        "colab": {
          "base_uri": "https://localhost:8080/"
        },
        "id": "Rp3ZTJnJ3jPa",
        "outputId": "a94fbb54-5fa5-442b-d582-ff272873cc98"
      },
      "outputs": [
        {
          "name": "stdout",
          "output_type": "stream",
          "text": [
            "(1, 2, 3, 4, 5)\n",
            "(6, 7, 8, 9, 10)\n"
          ]
        }
      ],
      "source": [
        "#first half in one line and the second half in other\n",
        "t=(1,2,3,4,5,6,7,8,9,10)\n",
        "print(t[:5])\n",
        "print(t[-5:])"
      ]
    },
    {
      "cell_type": "code",
      "execution_count": null,
      "metadata": {
        "colab": {
          "base_uri": "https://localhost:8080/"
        },
        "id": "mrB7tmXv5Z1J",
        "outputId": "a815b05d-e92e-4104-9c6b-28348c967868"
      },
      "outputs": [
        {
          "output_type": "stream",
          "name": "stdout",
          "text": [
            "(0, 2, 4, 6, 8)\n"
          ]
        }
      ],
      "source": [
        "#print another tuple with even numbers from the given tuple\n",
        "tp=(1,2,3,4,5,6,7,8,9,10)\n",
        "l3=list(tp)\n",
        "l2=[]\n",
        "for i in range(len(l3)):\n",
        "  if(i%2==0):\n",
        "    l2.append(i)\n",
        "  l3=tuple(l2)\n",
        "print(l3)\n"
      ]
    },
    {
      "cell_type": "code",
      "execution_count": null,
      "metadata": {
        "colab": {
          "base_uri": "https://localhost:8080/"
        },
        "id": "IQfIN2iXD1Lo",
        "outputId": "0b2bfc1f-3a35-4f9c-9eb7-1f8e82a91a62"
      },
      "outputs": [
        {
          "name": "stdout",
          "output_type": "stream",
          "text": [
            "are you fine? yes\n",
            "Yes\n"
          ]
        }
      ],
      "source": [
        "#to accept a string if it is yes/Yes/YES\n",
        "s=str(input(\"are you fine? \"))\n",
        "if(s=='yes' or s=='Yes' or s=='YES'):\n",
        "  print(\"Yes\")\n",
        "else:\n",
        "  print(\"No\")"
      ]
    },
    {
      "cell_type": "code",
      "execution_count": null,
      "metadata": {
        "colab": {
          "base_uri": "https://localhost:8080/"
        },
        "id": "xRlCKacunQfZ",
        "outputId": "4ddf0c29-8652-4f03-c43f-56f97cff6be9"
      },
      "outputs": [
        {
          "name": "stdout",
          "output_type": "stream",
          "text": [
            "[2, 4, 6, 8, 10]\n"
          ]
        }
      ],
      "source": [
        "#even using filter function\n",
        "l5=[1,2,3,4,5,6,7,8,9,10]\n",
        "x=list(filter(lambda x:(x%2==0),l5))\n",
        "print(x)"
      ]
    },
    {
      "cell_type": "code",
      "execution_count": null,
      "metadata": {
        "colab": {
          "base_uri": "https://localhost:8080/"
        },
        "id": "mYLEJEdAouWd",
        "outputId": "b6324cd7-8c90-44b6-fda9-33db3d2734f2"
      },
      "outputs": [
        {
          "name": "stdout",
          "output_type": "stream",
          "text": [
            "[1, 4, 9, 16, 25, 36, 49, 64, 81, 100]\n"
          ]
        }
      ],
      "source": [
        "#square of a list using map function\n",
        "l6=[1,2,3,4,5,6,7,8,9,10]\n",
        "x=list(map(lambda x:(x**2),l6))\n",
        "print(x)"
      ]
    },
    {
      "cell_type": "code",
      "execution_count": null,
      "metadata": {
        "colab": {
          "base_uri": "https://localhost:8080/"
        },
        "id": "Y8L6aTAJpSiB",
        "outputId": "59dfde03-6573-41d5-c90e-c7bca45818f2"
      },
      "outputs": [
        {
          "name": "stdout",
          "output_type": "stream",
          "text": [
            "even:  [2, 4, 6, 8, 10]\n",
            "square of even:  [4, 16, 36, 64, 100]\n"
          ]
        }
      ],
      "source": [
        "#even using filter and square of even using map\n",
        "l6=[1,2,3,4,5,6,7,8,9,10]\n",
        "x=list(filter(lambda x:(x%2==0),l6))\n",
        "print(\"even: \",x)\n",
        "y=list(map(lambda y:(y**2),x))\n",
        "print(\"square of even: \",y)"
      ]
    },
    {
      "cell_type": "code",
      "execution_count": null,
      "metadata": {
        "colab": {
          "base_uri": "https://localhost:8080/"
        },
        "id": "pf7GykJUqM6N",
        "outputId": "477ef0e3-d161-4b83-bdee-ec1880d7f966"
      },
      "outputs": [
        {
          "name": "stdout",
          "output_type": "stream",
          "text": [
            "[2, 4, 6, 8, 10, 12, 14, 16, 18, 20]\n"
          ]
        }
      ],
      "source": [
        "#even using filter\n",
        "l7=[]\n",
        "for i in range(1,21):\n",
        "  l7.append(i)\n",
        "x=list(filter(lambda x:(x%2==0),l7))\n",
        "print(x)\n"
      ]
    },
    {
      "cell_type": "code",
      "execution_count": null,
      "metadata": {
        "colab": {
          "base_uri": "https://localhost:8080/"
        },
        "id": "Hh6EUiAdqv-c",
        "outputId": "9394dd9c-e023-442c-a5e2-c610535e32f4"
      },
      "outputs": [
        {
          "name": "stdout",
          "output_type": "stream",
          "text": [
            "[1, 4, 9, 16, 25, 36, 49, 64, 81, 100, 121, 144, 169, 196, 225, 256, 289, 324, 361, 400]\n"
          ]
        }
      ],
      "source": [
        "#square using map\n",
        "l8=[]\n",
        "for i in range(1,21):\n",
        "  l8.append(i)\n",
        "y=list(map(lambda y:(y**2),l8))\n",
        "print(y)"
      ]
    },
    {
      "cell_type": "code",
      "execution_count": null,
      "metadata": {
        "colab": {
          "background_save": true,
          "base_uri": "https://localhost:8080/"
        },
        "id": "AVp4ER5bsqKL",
        "outputId": "4c0c9d8d-162d-4974-c268-c1eb5597c5cd"
      },
      "outputs": [
        {
          "name": "stdout",
          "output_type": "stream",
          "text": [
            "your guess is wrong\n",
            "your guess is wrong\n",
            "your guess is wrong\n",
            "your guess is wrong\n",
            "your guess is wrong\n",
            "your guess is wrong\n",
            "your guess is wrong\n",
            "your guess is wrong\n",
            "your guess is wrong\n",
            "your guess is wrong\n"
          ]
        }
      ],
      "source": [
        "#while\n",
        "import random\n",
        "l9=[]\n",
        "for i in range(1,10):\n",
        "  l9.append(i)\n",
        "while(1):\n",
        "  system=random.choice(l9)\n",
        "  user=int(input(\"enter your guess: \"))\n",
        "  if(system==user):\n",
        "    print(\"your guess is correct!\")\n",
        "  else:\n",
        "    print(\"your guess is wrong\")\n"
      ]
    },
    {
      "cell_type": "code",
      "execution_count": null,
      "metadata": {
        "id": "ZyumOjukvgvb"
      },
      "outputs": [],
      "source": [
        "while(1):\n",
        "  system=random.choice(l9)\n",
        "  user=int(input(\"enter your guess: \"))\n",
        "  if(system==user):\n",
        "    print(\"your guess is correct!\")\n",
        "  else:\n",
        "    print(\"your guess is wrong\")\n"
      ]
    }
  ],
  "metadata": {
    "colab": {
      "provenance": [],
      "authorship_tag": "ABX9TyM+Y3MAfnB8pXSQxyVRc10x",
      "include_colab_link": true
    },
    "kernelspec": {
      "display_name": "Python 3",
      "name": "python3"
    },
    "language_info": {
      "name": "python"
    }
  },
  "nbformat": 4,
  "nbformat_minor": 0
}