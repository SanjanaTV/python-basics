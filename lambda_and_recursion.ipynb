{
  "nbformat": 4,
  "nbformat_minor": 0,
  "metadata": {
    "colab": {
      "provenance": [],
      "authorship_tag": "ABX9TyNnAo8XxK9GPNtITFFoHlHo",
      "include_colab_link": true
    },
    "kernelspec": {
      "name": "python3",
      "display_name": "Python 3"
    },
    "language_info": {
      "name": "python"
    }
  },
  "cells": [
    {
      "cell_type": "markdown",
      "metadata": {
        "id": "view-in-github",
        "colab_type": "text"
      },
      "source": [
        "<a href=\"https://colab.research.google.com/github/SanjanaTV/python-basics/blob/main/lambda_and_recursion.ipynb\" target=\"_parent\"><img src=\"https://colab.research.google.com/assets/colab-badge.svg\" alt=\"Open In Colab\"/></a>"
      ]
    },
    {
      "cell_type": "code",
      "execution_count": null,
      "metadata": {
        "colab": {
          "base_uri": "https://localhost:8080/"
        },
        "id": "L2BYR6vfDojb",
        "outputId": "d1811ceb-45b5-4027-ef66-c6186d709073"
      },
      "outputs": [
        {
          "output_type": "stream",
          "name": "stdout",
          "text": [
            "[5, 10, 15, 20, 25, 30, 35, 40, 45, 50]\n"
          ]
        }
      ],
      "source": [
        "#multiple of 5 using map function\n",
        "mylist=[1,2,3,4,5,6,7,8,9,10]\n",
        "new=list(map(lambda x:x*5,mylist))\n",
        "print(new)"
      ]
    },
    {
      "cell_type": "code",
      "source": [
        "x=lambda a,b:a+b\n",
        "print(x(2,5))"
      ],
      "metadata": {
        "colab": {
          "base_uri": "https://localhost:8080/"
        },
        "id": "8iG40TsREG6K",
        "outputId": "74714905-3190-4772-e815-c6de6b643f95"
      },
      "execution_count": null,
      "outputs": [
        {
          "output_type": "stream",
          "name": "stdout",
          "text": [
            "7\n"
          ]
        }
      ]
    },
    {
      "cell_type": "code",
      "source": [
        "#even numbers in list using filter function\n",
        "mylist=[3,5,4,2]\n",
        "newlist=list(filter(lambda x:(x%2==0),mylist))\n",
        "print(newlist)"
      ],
      "metadata": {
        "colab": {
          "base_uri": "https://localhost:8080/"
        },
        "id": "NOd2b2KTE2Qy",
        "outputId": "6086db94-6874-4e6d-a671-9aed085280a5"
      },
      "execution_count": null,
      "outputs": [
        {
          "output_type": "stream",
          "name": "stdout",
          "text": [
            "[4, 2]\n"
          ]
        }
      ]
    },
    {
      "cell_type": "code",
      "source": [
        "#recursion for faactorial\n",
        "def factorial(n):\n",
        "  if(n==1):\n",
        "    return 1\n",
        "  else:\n",
        "    return n*factorial(n-1)\n",
        "n=5\n",
        "print(\"the factorial is\", factorial(n))"
      ],
      "metadata": {
        "colab": {
          "base_uri": "https://localhost:8080/"
        },
        "id": "EpaBgduNFNzg",
        "outputId": "ac1695b1-e7f1-4212-cdb4-de89ae22f142"
      },
      "execution_count": null,
      "outputs": [
        {
          "output_type": "stream",
          "name": "stdout",
          "text": [
            "the factorial is 120\n"
          ]
        }
      ]
    },
    {
      "cell_type": "code",
      "source": [
        "#fibinocci using recursion function\n",
        "def fib(n):\n",
        "  if(n<=1):\n",
        "    return n\n",
        "  else:\n",
        "    return (fib(n-1)+fib(n-2))\n",
        "x=10\n",
        "if(x<1):\n",
        "  print(\"invalid input\")\n",
        "else:\n",
        "  for i in range (x):\n",
        "    print(fib(i))"
      ],
      "metadata": {
        "colab": {
          "base_uri": "https://localhost:8080/"
        },
        "id": "TE_kdHVrOyrD",
        "outputId": "de1b8d31-5625-4cac-f44e-c1e235755ce4"
      },
      "execution_count": null,
      "outputs": [
        {
          "output_type": "stream",
          "name": "stdout",
          "text": [
            "0\n",
            "1\n",
            "1\n",
            "2\n",
            "3\n",
            "5\n",
            "8\n",
            "13\n",
            "21\n",
            "34\n"
          ]
        }
      ]
    },
    {
      "cell_type": "code",
      "source": [],
      "metadata": {
        "colab": {
          "base_uri": "https://localhost:8080/"
        },
        "id": "EYgmT0A_T5eK",
        "outputId": "a7c9225f-a85e-46f8-ef07-b3bffd76d5cd"
      },
      "execution_count": null,
      "outputs": [
        {
          "output_type": "stream",
          "name": "stdout",
          "text": [
            "55\n"
          ]
        }
      ]
    },
    {
      "cell_type": "code",
      "source": [
        "a=1\n",
        "while(a<10):\n",
        "  print(a)\n",
        "  a=a+1"
      ],
      "metadata": {
        "colab": {
          "base_uri": "https://localhost:8080/"
        },
        "id": "VCuiKL8vgSoN",
        "outputId": "40c5c0ef-b409-4284-dab6-6bbca7ca1090"
      },
      "execution_count": null,
      "outputs": [
        {
          "output_type": "stream",
          "name": "stdout",
          "text": [
            "1\n",
            "2\n",
            "3\n",
            "4\n",
            "5\n",
            "6\n",
            "7\n",
            "8\n",
            "9\n"
          ]
        }
      ]
    },
    {
      "cell_type": "code",
      "source": [
        "\n"
      ],
      "metadata": {
        "id": "HsFU8wz-ihU_"
      },
      "execution_count": null,
      "outputs": []
    },
    {
      "cell_type": "code",
      "source": [],
      "metadata": {
        "id": "II8ehnEKk2WU"
      },
      "execution_count": null,
      "outputs": []
    },
    {
      "cell_type": "code",
      "source": [],
      "metadata": {
        "id": "_AiS1TWXoRXA"
      },
      "execution_count": null,
      "outputs": []
    },
    {
      "cell_type": "code",
      "source": [],
      "metadata": {
        "id": "MypMBvWOoR0D"
      },
      "execution_count": null,
      "outputs": []
    }
  ]
}