{
  "nbformat": 4,
  "nbformat_minor": 0,
  "metadata": {
    "colab": {
      "provenance": [],
      "authorship_tag": "ABX9TyPqBIGniE7s3V8T0lsWJiRo",
      "include_colab_link": true
    },
    "kernelspec": {
      "name": "python3",
      "display_name": "Python 3"
    },
    "language_info": {
      "name": "python"
    }
  },
  "cells": [
    {
      "cell_type": "markdown",
      "metadata": {
        "id": "view-in-github",
        "colab_type": "text"
      },
      "source": [
        "<a href=\"https://colab.research.google.com/github/SanjanaTV/python-basics/blob/main/oop.ipynb\" target=\"_parent\"><img src=\"https://colab.research.google.com/assets/colab-badge.svg\" alt=\"Open In Colab\"/></a>"
      ]
    },
    {
      "cell_type": "code",
      "source": [
        "class parrot:\n",
        "  species=\"bird\"\n",
        "  def __init__(self,name,age):\n",
        "    self.name=name\n",
        "    self.age=age\n",
        "\n",
        "blu=parrot(\"blu\",10)\n",
        "woo=parrot(\"woo\",15)\n",
        "\n",
        "print(\"blu is a {}\".format(blu.__class__.species))\n",
        "print(\"woo is a {}\".format(woo.__class__.species))\n",
        "\n",
        "print(\"{} is {} years old\".format(blu.name,blu.age))\n",
        "print(\"{} is {} years old\".format(woo.name,woo.age))"
      ],
      "metadata": {
        "colab": {
          "base_uri": "https://localhost:8080/"
        },
        "id": "7oHw8bEYgUVx",
        "outputId": "5c774bca-09b7-4805-b966-83bf5165a4f9"
      },
      "execution_count": null,
      "outputs": [
        {
          "output_type": "stream",
          "name": "stdout",
          "text": [
            "blu is a bird\n",
            "woo is a bird\n",
            "blu is 10 years old\n",
            "woo is 15 years old\n"
          ]
        }
      ]
    },
    {
      "cell_type": "code",
      "execution_count": null,
      "metadata": {
        "colab": {
          "base_uri": "https://localhost:8080/"
        },
        "id": "vsLgTF-9gTYR",
        "outputId": "7260f122-a8b8-4f9f-fd44-1617e39619c3"
      },
      "outputs": [
        {
          "output_type": "stream",
          "name": "stdout",
          "text": [
            "Anu's rollno is 14\n",
            "Manu's rollno is 10\n",
            "anu is 14 years old\n",
            "manu is 10 years old\n"
          ]
        }
      ],
      "source": [
        "class student:\n",
        "  def __init__(self,name,rollno,age):\n",
        "    self.name=name\n",
        "    self.rollno=rollno\n",
        "    self.age=age\n",
        "\n",
        "s1=student(\"anu\",14,23)\n",
        "s2=student(\"manu\",10,21)\n",
        "\n",
        "print(\"Anu's rollno is {}\".format(s1.rollno))\n",
        "print(\"Manu's rollno is {}\".format(s2.rollno))\n",
        "\n",
        "print(\"{} is {} years old\".format(s1.name,s1.rollno))\n",
        "print(\"{} is {} years old\".format(s2.name,s2.rollno))"
      ]
    },
    {
      "cell_type": "code",
      "source": [
        "#using input\n",
        "class employee:\n",
        "  def __init__(self,name,id,salary):\n",
        "    self.name=name\n",
        "    self.id=id\n",
        "    self.salary=salary\n",
        "\n",
        "name=str(input(\"enter emp name: \"))\n",
        "id=int(input(\"enter the id: \"))\n",
        "salary=int(input(\"enter the salary: \"))\n",
        "\n",
        "e1=employee(name,id,salary)\n",
        "\n",
        "print(\"employee details:{} {} {}\".format(e1.name,e1.id,e1.salary))\n"
      ],
      "metadata": {
        "colab": {
          "base_uri": "https://localhost:8080/"
        },
        "id": "1UA5W-_UkBPd",
        "outputId": "c3760b8e-45d1-48a1-f604-a8a657a00017"
      },
      "execution_count": null,
      "outputs": [
        {
          "output_type": "stream",
          "name": "stdout",
          "text": [
            "enter emp name: sanjana\n",
            "enter the id: 2132\n",
            "enter the salary: 103939\n",
            "employee details:sanjana 2132 103939\n"
          ]
        }
      ]
    },
    {
      "cell_type": "code",
      "source": [
        "#using while loop\n",
        "while(1):\n",
        "  class employee:\n",
        "    def __init__(self,name,id,salary):\n",
        "      self.name=name\n",
        "      self.id=id\n",
        "      self.salary=salary\n",
        "\n",
        "  name=str(input(\"enter emp name: \"))\n",
        "  id=int(input(\"enter the id: \"))\n",
        "  salary=int(input(\"enter the salary: \"))\n",
        "\n",
        "  e1=employee(name,id,salary)\n",
        "\n",
        "  print(\"employee details:{} {} {}\".format(e1.name,e1.id,e1.salary))\n"
      ],
      "metadata": {
        "id": "wya2OQxXmbKs"
      },
      "execution_count": null,
      "outputs": []
    },
    {
      "cell_type": "code",
      "source": [
        "class parrot:\n",
        "  def __init__(self,name,age):\n",
        "    self.name=name\n",
        "    self.age=age\n",
        "  def sing(self,song):\n",
        "    return \"{} sings {}\".format(self.name,song)\n",
        "  def dance(self):\n",
        "    return \"{} dance is now dancing\".format(self.name)\n",
        "  def ages(self):\n",
        "    return \"age is {}\".format(self.age)\n",
        "\n",
        "blu=parrot(\"Blu\",10)\n",
        "print(blu.sing(\"happy\"))\n",
        "print(blu.dance())\n",
        "print(blu.ages())\n",
        "\n",
        "red=parrot(\"Red\",15)\n",
        "print(red.sing(\"happy\"))\n",
        "print(red.dance())\n",
        "print(red.ages())"
      ],
      "metadata": {
        "colab": {
          "base_uri": "https://localhost:8080/"
        },
        "id": "DUfQwYC6qIjC",
        "outputId": "eccdec1e-9a63-4d90-c302-e80af2617156"
      },
      "execution_count": null,
      "outputs": [
        {
          "output_type": "stream",
          "name": "stdout",
          "text": [
            "Blu sings happy\n",
            "Blu dance is now dancing\n",
            "age is 10\n",
            "Red sings happy\n",
            "Red dance is now dancing\n",
            "age is 15\n"
          ]
        }
      ]
    },
    {
      "cell_type": "code",
      "source": [
        "#polymorphism\n",
        "class parrot:\n",
        "\n",
        "  def fly(self):\n",
        "    print(\"parrot can fly\")\n",
        "  def swim(self):\n",
        "    print(\"parrot can't swim\")\n",
        "\n",
        "class penguin:\n",
        "\n",
        "  def fly(self):\n",
        "    print(\"penguin can't fly\")\n",
        "  def swim(self):\n",
        "    print(\"penguin can swim\")\n",
        "\n",
        "def flying_test(bird):\n",
        "  bird.fly()\n",
        "def swim_test(bird):\n",
        "  bird.swim()\n",
        "\n",
        "blu=parrot()\n",
        "peggy=penguin()\n",
        "\n",
        "flying_test(blu)\n",
        "flying_test(peggy)\n",
        "\n",
        "swim_test(blu)\n",
        "swim_test(peggy)"
      ],
      "metadata": {
        "colab": {
          "base_uri": "https://localhost:8080/"
        },
        "id": "FqUoUuj0zMnq",
        "outputId": "f1cf2bb9-801f-4075-dcdb-7df525309bb2"
      },
      "execution_count": null,
      "outputs": [
        {
          "output_type": "stream",
          "name": "stdout",
          "text": [
            "parrot can fly\n",
            "penguin can't fly\n",
            "parrot can't swim\n",
            "penguin can swim\n"
          ]
        }
      ]
    },
    {
      "cell_type": "code",
      "source": [
        "#inheritance\n",
        "class person:\n",
        "  def __init__(self,name,age):\n",
        "    self.name=name\n",
        "    self.age=age\n",
        "\n",
        "  def display(self):\n",
        "    print(self.name,self.age)\n",
        "\n",
        "p=person(\"anu\",20)\n",
        "p.display()\n",
        "\n",
        "class employee(person):\n",
        "  def details(self):\n",
        "    print(\"employee details\")\n",
        "\n",
        "e=employee(\"manu\",30)\n",
        "e.details()\n",
        "\n",
        "\n"
      ],
      "metadata": {
        "colab": {
          "base_uri": "https://localhost:8080/"
        },
        "id": "te8IGMZO1k9G",
        "outputId": "e5728f2d-fd67-4822-ed7c-28c0e649c2cb"
      },
      "execution_count": null,
      "outputs": [
        {
          "output_type": "stream",
          "name": "stdout",
          "text": [
            "anu 20\n",
            "employee details\n"
          ]
        }
      ]
    },
    {
      "cell_type": "code",
      "source": [],
      "metadata": {
        "id": "djESbp5C42pY"
      },
      "execution_count": null,
      "outputs": []
    }
  ]
}